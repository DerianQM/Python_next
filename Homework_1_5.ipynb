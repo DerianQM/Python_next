{
 "cells": [
  {
   "cell_type": "code",
   "execution_count": 2,
   "metadata": {},
   "outputs": [
    {
     "data": {
      "text/plain": [
       "'Выполнить пинг веб-ресурсов yandex.ru, youtube.com и преобразовать результаты из байтовового в строковый тип на кириллице'"
      ]
     },
     "execution_count": 2,
     "metadata": {},
     "output_type": "execute_result"
    }
   ],
   "source": [
    "'Выполнить пинг веб-ресурсов yandex.ru, youtube.com и преобразовать результаты из байтовового в строковый тип на кириллице'\n"
   ]
  },
  {
   "cell_type": "code",
   "execution_count": 3,
   "metadata": {},
   "outputs": [
    {
     "name": "stdout",
     "output_type": "stream",
     "text": [
      "b'\\r\\n'\n",
      "b'\\x8e\\xa1\\xac\\xa5\\xad \\xaf\\xa0\\xaa\\xa5\\xe2\\xa0\\xac\\xa8 \\xe1 yandex.com [213.180.204.62] \\xe1 32 \\xa1\\xa0\\xa9\\xe2\\xa0\\xac\\xa8 \\xa4\\xa0\\xad\\xad\\xeb\\xe5:\\r\\n'\n",
      "b'\\x8e\\xe2\\xa2\\xa5\\xe2 \\xae\\xe2 213.180.204.62: \\xe7\\xa8\\xe1\\xab\\xae \\xa1\\xa0\\xa9\\xe2=32 \\xa2\\xe0\\xa5\\xac\\xef=5\\xac\\xe1 TTL=56\\r\\n'\n",
      "b'\\x8e\\xe2\\xa2\\xa5\\xe2 \\xae\\xe2 213.180.204.62: \\xe7\\xa8\\xe1\\xab\\xae \\xa1\\xa0\\xa9\\xe2=32 \\xa2\\xe0\\xa5\\xac\\xef=8\\xac\\xe1 TTL=56\\r\\n'\n",
      "b'\\x8e\\xe2\\xa2\\xa5\\xe2 \\xae\\xe2 213.180.204.62: \\xe7\\xa8\\xe1\\xab\\xae \\xa1\\xa0\\xa9\\xe2=32 \\xa2\\xe0\\xa5\\xac\\xef=5\\xac\\xe1 TTL=56\\r\\n'\n",
      "b'\\x8e\\xe2\\xa2\\xa5\\xe2 \\xae\\xe2 213.180.204.62: \\xe7\\xa8\\xe1\\xab\\xae \\xa1\\xa0\\xa9\\xe2=32 \\xa2\\xe0\\xa5\\xac\\xef=5\\xac\\xe1 TTL=56\\r\\n'\n",
      "b'\\r\\n'\n",
      "b'\\x91\\xe2\\xa0\\xe2\\xa8\\xe1\\xe2\\xa8\\xaa\\xa0 Ping \\xa4\\xab\\xef 213.180.204.62:\\r\\n'\n",
      "b'    \\x8f\\xa0\\xaa\\xa5\\xe2\\xae\\xa2: \\xae\\xe2\\xaf\\xe0\\xa0\\xa2\\xab\\xa5\\xad\\xae = 4, \\xaf\\xae\\xab\\xe3\\xe7\\xa5\\xad\\xae = 4, \\xaf\\xae\\xe2\\xa5\\xe0\\xef\\xad\\xae = 0\\r\\n'\n",
      "b'    (0% \\xaf\\xae\\xe2\\xa5\\xe0\\xec)\\r\\n'\n",
      "b'\\x8f\\xe0\\xa8\\xa1\\xab\\xa8\\xa7\\xa8\\xe2\\xa5\\xab\\xec\\xad\\xae\\xa5 \\xa2\\xe0\\xa5\\xac\\xef \\xaf\\xe0\\xa8\\xa5\\xac\\xa0-\\xaf\\xa5\\xe0\\xa5\\xa4\\xa0\\xe7\\xa8 \\xa2 \\xac\\xe1:\\r\\n'\n",
      "b'    \\x8c\\xa8\\xad\\xa8\\xac\\xa0\\xab\\xec\\xad\\xae\\xa5 = 5\\xac\\xe1\\xa5\\xaa, \\x8c\\xa0\\xaa\\xe1\\xa8\\xac\\xa0\\xab\\xec\\xad\\xae\\xa5 = 8 \\xac\\xe1\\xa5\\xaa, \\x91\\xe0\\xa5\\xa4\\xad\\xa5\\xa5 = 5 \\xac\\xe1\\xa5\\xaa\\r\\n'\n"
     ]
    }
   ],
   "source": [
    "import subprocess\n",
    "args = ['ping', 'yandex.com']\n",
    "subproc_ping = subprocess.Popen(args, stdout=subprocess.PIPE)\n",
    "for line in subproc_ping.stdout:\n",
    "            print(line)\n",
    "\n"
   ]
  },
  {
   "cell_type": "code",
   "execution_count": 7,
   "metadata": {},
   "outputs": [
    {
     "name": "stdout",
     "output_type": "stream",
     "text": [
      "\n",
      "\n",
      "Обмен пакетами с yandex.com [213.180.204.62] с 32 байтами данных:\n",
      "\n",
      "Ответ от 213.180.204.62: число байт=32 время=5мс TTL=56\n",
      "\n",
      "Ответ от 213.180.204.62: число байт=32 время=5мс TTL=56\n",
      "\n",
      "Ответ от 213.180.204.62: число байт=32 время=14мс TTL=56\n",
      "\n",
      "Ответ от 213.180.204.62: число байт=32 время=7мс TTL=56\n",
      "\n",
      "\n",
      "\n",
      "Статистика Ping для 213.180.204.62:\n",
      "\n",
      "    Пакетов: отправлено = 4, получено = 4, потеряно = 0\n",
      "\n",
      "    (0% потерь)\n",
      "\n",
      "Приблизительное время приема-передачи в мс:\n",
      "\n",
      "    Минимальное = 5мсек, Максимальное = 14 мсек, Среднее = 7 мсек\n",
      "\n"
     ]
    }
   ],
   "source": [
    "import subprocess\n",
    "args = ['ping', 'yandex.com']\n",
    "subproc_ping = subprocess.Popen(args, stdout=subprocess.PIPE)\n",
    "for line in subproc_ping.stdout:\n",
    "           line = line.decode('cp866').encode('utf-8')\n",
    "           print(line.decode('utf-8'))"
   ]
  },
  {
   "cell_type": "code",
   "execution_count": 8,
   "metadata": {},
   "outputs": [
    {
     "name": "stdout",
     "output_type": "stream",
     "text": [
      "b'\\r\\n'\n",
      "b'\\x8e\\xa1\\xac\\xa5\\xad \\xaf\\xa0\\xaa\\xa5\\xe2\\xa0\\xac\\xa8 \\xe1 youtube.com [173.194.73.93] \\xe1 32 \\xa1\\xa0\\xa9\\xe2\\xa0\\xac\\xa8 \\xa4\\xa0\\xad\\xad\\xeb\\xe5:\\r\\n'\n",
      "b'\\x8e\\xe2\\xa2\\xa5\\xe2 \\xae\\xe2 173.194.73.93: \\xe7\\xa8\\xe1\\xab\\xae \\xa1\\xa0\\xa9\\xe2=32 \\xa2\\xe0\\xa5\\xac\\xef=17\\xac\\xe1 TTL=47\\r\\n'\n",
      "b'\\x8e\\xe2\\xa2\\xa5\\xe2 \\xae\\xe2 173.194.73.93: \\xe7\\xa8\\xe1\\xab\\xae \\xa1\\xa0\\xa9\\xe2=32 \\xa2\\xe0\\xa5\\xac\\xef=17\\xac\\xe1 TTL=47\\r\\n'\n",
      "b'\\x8e\\xe2\\xa2\\xa5\\xe2 \\xae\\xe2 173.194.73.93: \\xe7\\xa8\\xe1\\xab\\xae \\xa1\\xa0\\xa9\\xe2=32 \\xa2\\xe0\\xa5\\xac\\xef=20\\xac\\xe1 TTL=47\\r\\n'\n",
      "b'\\x8e\\xe2\\xa2\\xa5\\xe2 \\xae\\xe2 173.194.73.93: \\xe7\\xa8\\xe1\\xab\\xae \\xa1\\xa0\\xa9\\xe2=32 \\xa2\\xe0\\xa5\\xac\\xef=17\\xac\\xe1 TTL=47\\r\\n'\n",
      "b'\\r\\n'\n",
      "b'\\x91\\xe2\\xa0\\xe2\\xa8\\xe1\\xe2\\xa8\\xaa\\xa0 Ping \\xa4\\xab\\xef 173.194.73.93:\\r\\n'\n",
      "b'    \\x8f\\xa0\\xaa\\xa5\\xe2\\xae\\xa2: \\xae\\xe2\\xaf\\xe0\\xa0\\xa2\\xab\\xa5\\xad\\xae = 4, \\xaf\\xae\\xab\\xe3\\xe7\\xa5\\xad\\xae = 4, \\xaf\\xae\\xe2\\xa5\\xe0\\xef\\xad\\xae = 0\\r\\n'\n",
      "b'    (0% \\xaf\\xae\\xe2\\xa5\\xe0\\xec)\\r\\n'\n",
      "b'\\x8f\\xe0\\xa8\\xa1\\xab\\xa8\\xa7\\xa8\\xe2\\xa5\\xab\\xec\\xad\\xae\\xa5 \\xa2\\xe0\\xa5\\xac\\xef \\xaf\\xe0\\xa8\\xa5\\xac\\xa0-\\xaf\\xa5\\xe0\\xa5\\xa4\\xa0\\xe7\\xa8 \\xa2 \\xac\\xe1:\\r\\n'\n",
      "b'    \\x8c\\xa8\\xad\\xa8\\xac\\xa0\\xab\\xec\\xad\\xae\\xa5 = 17\\xac\\xe1\\xa5\\xaa, \\x8c\\xa0\\xaa\\xe1\\xa8\\xac\\xa0\\xab\\xec\\xad\\xae\\xa5 = 20 \\xac\\xe1\\xa5\\xaa, \\x91\\xe0\\xa5\\xa4\\xad\\xa5\\xa5 = 17 \\xac\\xe1\\xa5\\xaa\\r\\n'\n"
     ]
    }
   ],
   "source": [
    "import subprocess\n",
    "args = ['ping', 'youtube.com']\n",
    "subproc_ping = subprocess.Popen(args, stdout=subprocess.PIPE)\n",
    "for line in subproc_ping.stdout:\n",
    "            print(line)"
   ]
  },
  {
   "cell_type": "code",
   "execution_count": 9,
   "metadata": {},
   "outputs": [
    {
     "name": "stdout",
     "output_type": "stream",
     "text": [
      "\n",
      "\n",
      "Обмен пакетами с youtube.com [173.194.73.93] с 32 байтами данных:\n",
      "\n",
      "Ответ от 173.194.73.93: число байт=32 время=17мс TTL=47\n",
      "\n",
      "Ответ от 173.194.73.93: число байт=32 время=18мс TTL=47\n",
      "\n",
      "Ответ от 173.194.73.93: число байт=32 время=17мс TTL=47\n",
      "\n",
      "Ответ от 173.194.73.93: число байт=32 время=17мс TTL=47\n",
      "\n",
      "\n",
      "\n",
      "Статистика Ping для 173.194.73.93:\n",
      "\n",
      "    Пакетов: отправлено = 4, получено = 4, потеряно = 0\n",
      "\n",
      "    (0% потерь)\n",
      "\n",
      "Приблизительное время приема-передачи в мс:\n",
      "\n",
      "    Минимальное = 17мсек, Максимальное = 18 мсек, Среднее = 17 мсек\n",
      "\n"
     ]
    }
   ],
   "source": [
    "import subprocess\n",
    "args = ['ping', 'youtube.com']\n",
    "subproc_ping = subprocess.Popen(args, stdout=subprocess.PIPE)\n",
    "for line in subproc_ping.stdout:\n",
    "           line = line.decode('cp866').encode('utf-8')\n",
    "           print(line.decode('utf-8'))"
   ]
  },
  {
   "cell_type": "code",
   "execution_count": null,
   "metadata": {},
   "outputs": [],
   "source": []
  }
 ],
 "metadata": {
  "kernelspec": {
   "display_name": "Python 3",
   "language": "python",
   "name": "python3"
  },
  "language_info": {
   "codemirror_mode": {
    "name": "ipython",
    "version": 3
   },
   "file_extension": ".py",
   "mimetype": "text/x-python",
   "name": "python",
   "nbconvert_exporter": "python",
   "pygments_lexer": "ipython3",
   "version": "3.7.3"
  }
 },
 "nbformat": 4,
 "nbformat_minor": 2
}
