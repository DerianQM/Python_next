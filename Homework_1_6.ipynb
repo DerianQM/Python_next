{
 "cells": [
  {
   "cell_type": "code",
   "execution_count": 1,
   "metadata": {},
   "outputs": [
    {
     "data": {
      "text/plain": [
       "'Создать текстовый файл test_file.txt, заполнить его тремя строками: «сетевое программирование», «сокет», «декоратор». Проверить кодировку файла по умолчанию. Принудительно открыть файл в формате Unicode и вывести его содержимое.'"
      ]
     },
     "execution_count": 1,
     "metadata": {},
     "output_type": "execute_result"
    }
   ],
   "source": [
    "'Создать текстовый файл test_file.txt, заполнить его тремя строками: «сетевое программирование», «сокет», «декоратор». Проверить кодировку файла по умолчанию. Принудительно открыть файл в формате Unicode и вывести его содержимое.'"
   ]
  },
  {
   "cell_type": "code",
   "execution_count": 8,
   "metadata": {},
   "outputs": [],
   "source": [
    "f = open(\"test_file.txt\",\"w\",encoding='utf-8')\n",
    "\n",
    "mass= ['сетевое программирование','сокет','декоратор']\n",
    "\n",
    "for _ in mass:\n",
    "    f.write (_ + '\\n')\n",
    "f.close()"
   ]
  },
  {
   "cell_type": "code",
   "execution_count": 9,
   "metadata": {},
   "outputs": [
    {
     "name": "stdout",
     "output_type": "stream",
     "text": [
      "сетевое программирование\n",
      "сокет\n",
      "декоратор\n"
     ]
    }
   ],
   "source": [
    "with open('test_file.txt', encoding='utf-8') as f:\n",
    "    for _ in f:\n",
    "            print(_, end='')\n"
   ]
  },
  {
   "cell_type": "code",
   "execution_count": 10,
   "metadata": {},
   "outputs": [
    {
     "name": "stdout",
     "output_type": "stream",
     "text": [
      "cp1251\n"
     ]
    }
   ],
   "source": [
    "f = open(\"test1_file.txt\",\"w\",)\n",
    "\n",
    "mass= ['сетевое программирование','сокет','декоратор']\n",
    "\n",
    "for _ in mass:\n",
    "    f.write (_ + '\\n')\n",
    "f.close()\n",
    "\n",
    "import locale\n",
    "\n",
    "def_coding = locale.getpreferredencoding()\n",
    "\n",
    "print(def_coding)\n"
   ]
  },
  {
   "cell_type": "code",
   "execution_count": 11,
   "metadata": {},
   "outputs": [
    {
     "name": "stdout",
     "output_type": "stream",
     "text": [
      "сетевое программирование\n",
      "сокет\n",
      "декоратор\n"
     ]
    }
   ],
   "source": [
    "with open('test1_file.txt', encoding='cp1251') as f:\n",
    "    for _ in f:\n",
    "            print(_, end='')"
   ]
  },
  {
   "cell_type": "code",
   "execution_count": 12,
   "metadata": {},
   "outputs": [
    {
     "data": {
      "text/plain": [
       "'сделал 2 тестовых файла, с явным указанием кодировки и кодировкой по умолчанию'"
      ]
     },
     "execution_count": 12,
     "metadata": {},
     "output_type": "execute_result"
    }
   ],
   "source": [
    "'сделал 2 тестовых файла, с явным указанием кодировки и кодировкой по умолчанию'"
   ]
  },
  {
   "cell_type": "code",
   "execution_count": null,
   "metadata": {},
   "outputs": [],
   "source": []
  }
 ],
 "metadata": {
  "kernelspec": {
   "display_name": "Python 3",
   "language": "python",
   "name": "python3"
  },
  "language_info": {
   "codemirror_mode": {
    "name": "ipython",
    "version": 3
   },
   "file_extension": ".py",
   "mimetype": "text/x-python",
   "name": "python",
   "nbconvert_exporter": "python",
   "pygments_lexer": "ipython3",
   "version": "3.7.3"
  }
 },
 "nbformat": 4,
 "nbformat_minor": 2
}
